{
 "cells": [
  {
   "cell_type": "code",
   "execution_count": 1,
   "metadata": {},
   "outputs": [],
   "source": [
    "import pandas as pd\n",
    "import numpy as np\n",
    "import seaborn as sns\n",
    "import matplotlib.pyplot as plt"
   ]
  },
  {
   "cell_type": "code",
   "execution_count": 2,
   "metadata": {},
   "outputs": [],
   "source": [
    "d  =  pd.read_csv('advertising.csv')"
   ]
  },
  {
   "cell_type": "code",
   "execution_count": 3,
   "metadata": {},
   "outputs": [],
   "source": [
    "df = pd.DataFrame(d)"
   ]
  },
  {
   "cell_type": "code",
   "execution_count": 4,
   "metadata": {},
   "outputs": [
    {
     "data": {
      "text/html": [
       "<div>\n",
       "<style scoped>\n",
       "    .dataframe tbody tr th:only-of-type {\n",
       "        vertical-align: middle;\n",
       "    }\n",
       "\n",
       "    .dataframe tbody tr th {\n",
       "        vertical-align: top;\n",
       "    }\n",
       "\n",
       "    .dataframe thead th {\n",
       "        text-align: right;\n",
       "    }\n",
       "</style>\n",
       "<table border=\"1\" class=\"dataframe\">\n",
       "  <thead>\n",
       "    <tr style=\"text-align: right;\">\n",
       "      <th></th>\n",
       "      <th>Unnamed: 0</th>\n",
       "      <th>TV</th>\n",
       "      <th>radio</th>\n",
       "      <th>newspaper</th>\n",
       "      <th>sales</th>\n",
       "    </tr>\n",
       "  </thead>\n",
       "  <tbody>\n",
       "    <tr>\n",
       "      <th>0</th>\n",
       "      <td>1</td>\n",
       "      <td>230.1</td>\n",
       "      <td>37.8</td>\n",
       "      <td>69.2</td>\n",
       "      <td>22.1</td>\n",
       "    </tr>\n",
       "    <tr>\n",
       "      <th>1</th>\n",
       "      <td>2</td>\n",
       "      <td>44.5</td>\n",
       "      <td>39.3</td>\n",
       "      <td>45.1</td>\n",
       "      <td>10.4</td>\n",
       "    </tr>\n",
       "    <tr>\n",
       "      <th>2</th>\n",
       "      <td>3</td>\n",
       "      <td>17.2</td>\n",
       "      <td>45.9</td>\n",
       "      <td>69.3</td>\n",
       "      <td>9.3</td>\n",
       "    </tr>\n",
       "    <tr>\n",
       "      <th>3</th>\n",
       "      <td>4</td>\n",
       "      <td>151.5</td>\n",
       "      <td>41.3</td>\n",
       "      <td>58.5</td>\n",
       "      <td>18.5</td>\n",
       "    </tr>\n",
       "    <tr>\n",
       "      <th>4</th>\n",
       "      <td>5</td>\n",
       "      <td>180.8</td>\n",
       "      <td>10.8</td>\n",
       "      <td>58.4</td>\n",
       "      <td>12.9</td>\n",
       "    </tr>\n",
       "  </tbody>\n",
       "</table>\n",
       "</div>"
      ],
      "text/plain": [
       "   Unnamed: 0     TV  radio  newspaper  sales\n",
       "0           1  230.1   37.8       69.2   22.1\n",
       "1           2   44.5   39.3       45.1   10.4\n",
       "2           3   17.2   45.9       69.3    9.3\n",
       "3           4  151.5   41.3       58.5   18.5\n",
       "4           5  180.8   10.8       58.4   12.9"
      ]
     },
     "execution_count": 4,
     "metadata": {},
     "output_type": "execute_result"
    }
   ],
   "source": [
    "df.head()"
   ]
  },
  {
   "cell_type": "code",
   "execution_count": 5,
   "metadata": {},
   "outputs": [
    {
     "data": {
      "text/plain": [
       "(200, 5)"
      ]
     },
     "execution_count": 5,
     "metadata": {},
     "output_type": "execute_result"
    }
   ],
   "source": [
    "df.shape"
   ]
  },
  {
   "cell_type": "code",
   "execution_count": 6,
   "metadata": {},
   "outputs": [
    {
     "name": "stdout",
     "output_type": "stream",
     "text": [
      "<class 'pandas.core.frame.DataFrame'>\n",
      "RangeIndex: 200 entries, 0 to 199\n",
      "Data columns (total 5 columns):\n",
      " #   Column      Non-Null Count  Dtype  \n",
      "---  ------      --------------  -----  \n",
      " 0   Unnamed: 0  200 non-null    int64  \n",
      " 1   TV          200 non-null    float64\n",
      " 2   radio       200 non-null    float64\n",
      " 3   newspaper   200 non-null    float64\n",
      " 4   sales       200 non-null    float64\n",
      "dtypes: float64(4), int64(1)\n",
      "memory usage: 7.9 KB\n"
     ]
    }
   ],
   "source": [
    "df.info()"
   ]
  },
  {
   "cell_type": "markdown",
   "metadata": {},
   "source": [
    "Correct data types"
   ]
  },
  {
   "cell_type": "code",
   "execution_count": 7,
   "metadata": {},
   "outputs": [
    {
     "data": {
      "text/html": [
       "<div>\n",
       "<style scoped>\n",
       "    .dataframe tbody tr th:only-of-type {\n",
       "        vertical-align: middle;\n",
       "    }\n",
       "\n",
       "    .dataframe tbody tr th {\n",
       "        vertical-align: top;\n",
       "    }\n",
       "\n",
       "    .dataframe thead th {\n",
       "        text-align: right;\n",
       "    }\n",
       "</style>\n",
       "<table border=\"1\" class=\"dataframe\">\n",
       "  <thead>\n",
       "    <tr style=\"text-align: right;\">\n",
       "      <th></th>\n",
       "      <th>Unnamed: 0</th>\n",
       "      <th>TV</th>\n",
       "      <th>radio</th>\n",
       "      <th>newspaper</th>\n",
       "      <th>sales</th>\n",
       "    </tr>\n",
       "  </thead>\n",
       "  <tbody>\n",
       "    <tr>\n",
       "      <th>count</th>\n",
       "      <td>200.000000</td>\n",
       "      <td>200.000000</td>\n",
       "      <td>200.000000</td>\n",
       "      <td>200.000000</td>\n",
       "      <td>200.000000</td>\n",
       "    </tr>\n",
       "    <tr>\n",
       "      <th>mean</th>\n",
       "      <td>100.500000</td>\n",
       "      <td>147.042500</td>\n",
       "      <td>23.264000</td>\n",
       "      <td>30.554000</td>\n",
       "      <td>14.022500</td>\n",
       "    </tr>\n",
       "    <tr>\n",
       "      <th>std</th>\n",
       "      <td>57.879185</td>\n",
       "      <td>85.854236</td>\n",
       "      <td>14.846809</td>\n",
       "      <td>21.778621</td>\n",
       "      <td>5.217457</td>\n",
       "    </tr>\n",
       "    <tr>\n",
       "      <th>min</th>\n",
       "      <td>1.000000</td>\n",
       "      <td>0.700000</td>\n",
       "      <td>0.000000</td>\n",
       "      <td>0.300000</td>\n",
       "      <td>1.600000</td>\n",
       "    </tr>\n",
       "    <tr>\n",
       "      <th>25%</th>\n",
       "      <td>50.750000</td>\n",
       "      <td>74.375000</td>\n",
       "      <td>9.975000</td>\n",
       "      <td>12.750000</td>\n",
       "      <td>10.375000</td>\n",
       "    </tr>\n",
       "    <tr>\n",
       "      <th>50%</th>\n",
       "      <td>100.500000</td>\n",
       "      <td>149.750000</td>\n",
       "      <td>22.900000</td>\n",
       "      <td>25.750000</td>\n",
       "      <td>12.900000</td>\n",
       "    </tr>\n",
       "    <tr>\n",
       "      <th>75%</th>\n",
       "      <td>150.250000</td>\n",
       "      <td>218.825000</td>\n",
       "      <td>36.525000</td>\n",
       "      <td>45.100000</td>\n",
       "      <td>17.400000</td>\n",
       "    </tr>\n",
       "    <tr>\n",
       "      <th>max</th>\n",
       "      <td>200.000000</td>\n",
       "      <td>296.400000</td>\n",
       "      <td>49.600000</td>\n",
       "      <td>114.000000</td>\n",
       "      <td>27.000000</td>\n",
       "    </tr>\n",
       "  </tbody>\n",
       "</table>\n",
       "</div>"
      ],
      "text/plain": [
       "       Unnamed: 0          TV       radio   newspaper       sales\n",
       "count  200.000000  200.000000  200.000000  200.000000  200.000000\n",
       "mean   100.500000  147.042500   23.264000   30.554000   14.022500\n",
       "std     57.879185   85.854236   14.846809   21.778621    5.217457\n",
       "min      1.000000    0.700000    0.000000    0.300000    1.600000\n",
       "25%     50.750000   74.375000    9.975000   12.750000   10.375000\n",
       "50%    100.500000  149.750000   22.900000   25.750000   12.900000\n",
       "75%    150.250000  218.825000   36.525000   45.100000   17.400000\n",
       "max    200.000000  296.400000   49.600000  114.000000   27.000000"
      ]
     },
     "execution_count": 7,
     "metadata": {},
     "output_type": "execute_result"
    }
   ],
   "source": [
    "df.describe()"
   ]
  },
  {
   "cell_type": "markdown",
   "metadata": {},
   "source": [
    "Huge difference between min and max in each column\n",
    "\n",
    "newspaper is least spreaded\n",
    "\n",
    "TV is most spreaded"
   ]
  },
  {
   "cell_type": "code",
   "execution_count": 8,
   "metadata": {},
   "outputs": [
    {
     "data": {
      "text/plain": [
       "Unnamed: 0    0\n",
       "TV            0\n",
       "radio         0\n",
       "newspaper     0\n",
       "sales         0\n",
       "dtype: int64"
      ]
     },
     "execution_count": 8,
     "metadata": {},
     "output_type": "execute_result"
    }
   ],
   "source": [
    "df.isnull().sum()"
   ]
  },
  {
   "cell_type": "markdown",
   "metadata": {},
   "source": [
    "#No null values in the dataset"
   ]
  },
  {
   "cell_type": "code",
   "execution_count": 9,
   "metadata": {},
   "outputs": [
    {
     "data": {
      "text/plain": [
       "<matplotlib.axes._subplots.AxesSubplot at 0x2c9ef16d9e8>"
      ]
     },
     "execution_count": 9,
     "metadata": {},
     "output_type": "execute_result"
    },
    {
     "data": {
      "image/png": "[encoded data removed]",
      "text/plain": [
       "<Figure size 432x288 with 2 Axes>"
      ]
     },
     "metadata": {
      "needs_background": "light"
     },
     "output_type": "display_data"
    }
   ],
   "source": [
    "sns.heatmap(df.corr(),annot=True)"
   ]
  },
  {
   "cell_type": "markdown",
   "metadata": {},
   "source": [
    "Maximum relation with TV\n",
    "\n",
    "Least relation with newspaper"
   ]
  },
  {
   "cell_type": "code",
   "execution_count": 10,
   "metadata": {},
   "outputs": [
    {
     "data": {
      "image/png": "[encoded data removed]",
      "text/plain": [
       "<Figure size 432x288 with 1 Axes>"
      ]
     },
     "metadata": {
      "needs_background": "light"
     },
     "output_type": "display_data"
    },
    {
     "data": {
      "image/png": "[encoded data removed]",
      "text/plain": [
       "<Figure size 432x288 with 1 Axes>"
      ]
     },
     "metadata": {
      "needs_background": "light"
     },
     "output_type": "display_data"
    },
    {
     "data": {
      "image/png": "[encoded data removed]",
      "text/plain": [
       "<Figure size 432x288 with 1 Axes>"
      ]
     },
     "metadata": {
      "needs_background": "light"
     },
     "output_type": "display_data"
    },
    {
     "data": {
      "image/png": "[encoded data removed]",
      "text/plain": [
       "<Figure size 432x288 with 1 Axes>"
      ]
     },
     "metadata": {
      "needs_background": "light"
     },
     "output_type": "display_data"
    },
    {
     "data": {
      "image/png": "[encoded data removed]",
      "text/plain": [
       "<Figure size 432x288 with 1 Axes>"
      ]
     },
     "metadata": {
      "needs_background": "light"
     },
     "output_type": "display_data"
    }
   ],
   "source": [
    "for i in df.columns:\n",
    "    sns.scatterplot(x='sales',y=i,data=df)\n",
    "    plt.show()"
   ]
  },
  {
   "cell_type": "markdown",
   "metadata": {},
   "source": [
    "newspaper has no relation with sales\n",
    "\n",
    "positive relation with tv and radio"
   ]
  },
  {
   "cell_type": "code",
   "execution_count": 11,
   "metadata": {},
   "outputs": [
    {
     "data": {
      "image/png": "[encoded data removed]",
      "text/plain": [
       "<Figure size 432x288 with 1 Axes>"
      ]
     },
     "metadata": {
      "needs_background": "light"
     },
     "output_type": "display_data"
    },
    {
     "data": {
      "image/png": "[encoded data removed]",
      "text/plain": [
       "<Figure size 432x288 with 1 Axes>"
      ]
     },
     "metadata": {
      "needs_background": "light"
     },
     "output_type": "display_data"
    },
    {
     "data": {
      "image/png": "[encoded data removed]",
      "text/plain": [
       "<Figure size 432x288 with 1 Axes>"
      ]
     },
     "metadata": {
      "needs_background": "light"
     },
     "output_type": "display_data"
    },
    {
     "data": {
      "image/png": "[encoded data removed]",
      "text/plain": [
       "<Figure size 432x288 with 1 Axes>"
      ]
     },
     "metadata": {
      "needs_background": "light"
     },
     "output_type": "display_data"
    },
    {
     "data": {
      "image/png": "[encoded data removed]",
      "text/plain": [
       "<Figure size 432x288 with 1 Axes>"
      ]
     },
     "metadata": {
      "needs_background": "light"
     },
     "output_type": "display_data"
    }
   ],
   "source": [
    "for i in df.columns:\n",
    "    df.boxplot(i)\n",
    "    plt.show()"
   ]
  },
  {
   "cell_type": "markdown",
   "metadata": {},
   "source": [
    "No outliers in the datset"
   ]
  },
  {
   "cell_type": "code",
   "execution_count": 12,
   "metadata": {},
   "outputs": [],
   "source": [
    "df.drop('Unnamed: 0',axis=1,inplace=True)"
   ]
  },
  {
   "cell_type": "code",
   "execution_count": 13,
   "metadata": {},
   "outputs": [
    {
     "name": "stdout",
     "output_type": "stream",
     "text": [
      "TV 7370.949893216087\n",
      "radio 220.4277427135678\n",
      "newspaper 474.30832562814095\n",
      "sales 27.221853015075364\n"
     ]
    }
   ],
   "source": [
    "for i in df.columns:\n",
    "    print(i,df.var()[i])"
   ]
  },
  {
   "cell_type": "markdown",
   "metadata": {},
   "source": [
    "TV has highest variance(spread of data)\n",
    "\n",
    "Whereas radio has least"
   ]
  },
  {
   "cell_type": "code",
   "execution_count": 14,
   "metadata": {},
   "outputs": [
    {
     "data": {
      "image/png": "[encoded data removed]",
      "text/plain": [
       "<Figure size 432x288 with 1 Axes>"
      ]
     },
     "metadata": {
      "needs_background": "light"
     },
     "output_type": "display_data"
    },
    {
     "data": {
      "image/png": "[encoded data removed]",
      "text/plain": [
       "<Figure size 432x288 with 1 Axes>"
      ]
     },
     "metadata": {
      "needs_background": "light"
     },
     "output_type": "display_data"
    },
    {
     "data": {
      "image/png": "[encoded data removed]",
      "text/plain": [
       "<Figure size 432x288 with 1 Axes>"
      ]
     },
     "metadata": {
      "needs_background": "light"
     },
     "output_type": "display_data"
    },
    {
     "data": {
      "image/png": "[encoded data removed]",
      "text/plain": [
       "<Figure size 432x288 with 1 Axes>"
      ]
     },
     "metadata": {
      "needs_background": "light"
     },
     "output_type": "display_data"
    }
   ],
   "source": [
    "for i in df.columns:\n",
    "    plt.show()\n",
    "    sns.distplot(df[i])"
   ]
  },
  {
   "cell_type": "markdown",
   "metadata": {},
   "source": [
    "Newspaper is right skewed\n",
    "\n",
    "For rest columns:near to normal distribution"
   ]
  },
  {
   "cell_type": "code",
   "execution_count": 15,
   "metadata": {},
   "outputs": [
    {
     "name": "stdout",
     "output_type": "stream",
     "text": [
      "TV -0.06985336213274573\n",
      "radio 0.09417463149664404\n",
      "newspaper 0.8947204074986175\n",
      "sales 0.4075714250767127\n"
     ]
    }
   ],
   "source": [
    "for i in df.columns:\n",
    "    print(i,df[i].skew())"
   ]
  },
  {
   "cell_type": "markdown",
   "metadata": {},
   "source": [
    "newspaper is extremely skewed\n",
    "\n",
    "taking thresold as +-0.5 each column is skewed"
   ]
  },
  {
   "cell_type": "code",
   "execution_count": 16,
   "metadata": {},
   "outputs": [],
   "source": [
    "from sklearn.preprocessing import power_transform\n",
    "df1 = pd.DataFrame(power_transform(df),columns=df.columns)"
   ]
  },
  {
   "cell_type": "code",
   "execution_count": 17,
   "metadata": {},
   "outputs": [
    {
     "data": {
      "text/html": [
       "<div>\n",
       "<style scoped>\n",
       "    .dataframe tbody tr th:only-of-type {\n",
       "        vertical-align: middle;\n",
       "    }\n",
       "\n",
       "    .dataframe tbody tr th {\n",
       "        vertical-align: top;\n",
       "    }\n",
       "\n",
       "    .dataframe thead th {\n",
       "        text-align: right;\n",
       "    }\n",
       "</style>\n",
       "<table border=\"1\" class=\"dataframe\">\n",
       "  <thead>\n",
       "    <tr style=\"text-align: right;\">\n",
       "      <th></th>\n",
       "      <th>TV</th>\n",
       "      <th>radio</th>\n",
       "      <th>newspaper</th>\n",
       "      <th>sales</th>\n",
       "    </tr>\n",
       "  </thead>\n",
       "  <tbody>\n",
       "    <tr>\n",
       "      <th>0</th>\n",
       "      <td>0.948674</td>\n",
       "      <td>0.962247</td>\n",
       "      <td>1.514335</td>\n",
       "      <td>1.464412</td>\n",
       "    </tr>\n",
       "    <tr>\n",
       "      <th>1</th>\n",
       "      <td>-1.191314</td>\n",
       "      <td>1.040179</td>\n",
       "      <td>0.787683</td>\n",
       "      <td>-0.650693</td>\n",
       "    </tr>\n",
       "    <tr>\n",
       "      <th>2</th>\n",
       "      <td>-1.647757</td>\n",
       "      <td>1.370710</td>\n",
       "      <td>1.516998</td>\n",
       "      <td>-0.894550</td>\n",
       "    </tr>\n",
       "    <tr>\n",
       "      <th>3</th>\n",
       "      <td>0.141020</td>\n",
       "      <td>1.142387</td>\n",
       "      <td>1.214656</td>\n",
       "      <td>0.882528</td>\n",
       "    </tr>\n",
       "    <tr>\n",
       "      <th>4</th>\n",
       "      <td>0.452715</td>\n",
       "      <td>-0.748651</td>\n",
       "      <td>1.211704</td>\n",
       "      <td>-0.134550</td>\n",
       "    </tr>\n",
       "  </tbody>\n",
       "</table>\n",
       "</div>"
      ],
      "text/plain": [
       "         TV     radio  newspaper     sales\n",
       "0  0.948674  0.962247   1.514335  1.464412\n",
       "1 -1.191314  1.040179   0.787683 -0.650693\n",
       "2 -1.647757  1.370710   1.516998 -0.894550\n",
       "3  0.141020  1.142387   1.214656  0.882528\n",
       "4  0.452715 -0.748651   1.211704 -0.134550"
      ]
     },
     "execution_count": 17,
     "metadata": {},
     "output_type": "execute_result"
    }
   ],
   "source": [
    "df1.head()"
   ]
  },
  {
   "cell_type": "code",
   "execution_count": 18,
   "metadata": {},
   "outputs": [],
   "source": [
    "from sklearn.preprocessing import MinMaxScaler\n",
    "min_max = MinMaxScaler()\n",
    "df_new = pd.DataFrame(min_max.fit_transform(df1),columns=df1.columns)"
   ]
  },
  {
   "cell_type": "code",
   "execution_count": 20,
   "metadata": {},
   "outputs": [
    {
     "data": {
      "text/html": [
       "<div>\n",
       "<style scoped>\n",
       "    .dataframe tbody tr th:only-of-type {\n",
       "        vertical-align: middle;\n",
       "    }\n",
       "\n",
       "    .dataframe tbody tr th {\n",
       "        vertical-align: top;\n",
       "    }\n",
       "\n",
       "    .dataframe thead th {\n",
       "        text-align: right;\n",
       "    }\n",
       "</style>\n",
       "<table border=\"1\" class=\"dataframe\">\n",
       "  <thead>\n",
       "    <tr style=\"text-align: right;\">\n",
       "      <th></th>\n",
       "      <th>TV</th>\n",
       "      <th>radio</th>\n",
       "      <th>newspaper</th>\n",
       "      <th>sales</th>\n",
       "    </tr>\n",
       "  </thead>\n",
       "  <tbody>\n",
       "    <tr>\n",
       "      <th>0</th>\n",
       "      <td>0.827151</td>\n",
       "      <td>0.833914</td>\n",
       "      <td>0.790880</td>\n",
       "      <td>0.864569</td>\n",
       "    </tr>\n",
       "    <tr>\n",
       "      <th>1</th>\n",
       "      <td>0.234936</td>\n",
       "      <td>0.856003</td>\n",
       "      <td>0.641184</td>\n",
       "      <td>0.470762</td>\n",
       "    </tr>\n",
       "    <tr>\n",
       "      <th>2</th>\n",
       "      <td>0.108621</td>\n",
       "      <td>0.949689</td>\n",
       "      <td>0.791429</td>\n",
       "      <td>0.425359</td>\n",
       "    </tr>\n",
       "  </tbody>\n",
       "</table>\n",
       "</div>"
      ],
      "text/plain": [
       "         TV     radio  newspaper     sales\n",
       "0  0.827151  0.833914   0.790880  0.864569\n",
       "1  0.234936  0.856003   0.641184  0.470762\n",
       "2  0.108621  0.949689   0.791429  0.425359"
      ]
     },
     "execution_count": 20,
     "metadata": {},
     "output_type": "execute_result"
    }
   ],
   "source": [
    "df_new.head(3)"
   ]
  },
  {
   "cell_type": "markdown",
   "metadata": {},
   "source": [
    "#data is scaled"
   ]
  },
  {
   "cell_type": "markdown",
   "metadata": {},
   "source": [
    "Finding best random state for splitting\n",
    "\n",
    "the test and train variable"
   ]
  },
  {
   "cell_type": "code",
   "execution_count": 21,
   "metadata": {},
   "outputs": [],
   "source": [
    "from sklearn.model_selection import train_test_split\n",
    "from sklearn.linear_model import LinearRegression\n",
    "from sklearn.metrics import r2_score\n",
    "from sklearn.metrics import mean_squared_error"
   ]
  },
  {
   "cell_type": "code",
   "execution_count": 23,
   "metadata": {},
   "outputs": [],
   "source": [
    "x = df_new.drop('sales',axis=1)\n",
    "y = df_new['sales']"
   ]
  },
  {
   "cell_type": "code",
   "execution_count": 24,
   "metadata": {},
   "outputs": [
    {
     "name": "stdout",
     "output_type": "stream",
     "text": [
      "random_state 1\n",
      "R score 0.9314929763219927 Error 0.002318787191671969\n",
      "RMS error 0.04815378688817702\n",
      "random_state 2\n",
      "R score 0.8376124490156727 Error 0.005498374488857732\n",
      "RMS error 0.07415102486721092\n",
      "random_state 3\n",
      "R score 0.8662160953736046 Error 0.0056436985972593955\n",
      "RMS error 0.07512455389058491\n",
      "random_state 4\n",
      "R score 0.9103856297242333 Error 0.002704317303707917\n",
      "RMS error 0.052003050907691147\n",
      "random_state 5\n",
      "R score 0.9124043619477951 Error 0.002488114269890714\n",
      "RMS error 0.04988100109150491\n",
      "random_state 6\n",
      "R score 0.9048833752592385 Error 0.002480872167656725\n",
      "RMS error 0.04980835439619267\n",
      "random_state 7\n",
      "R score 0.9198573247041206 Error 0.0028595791540861645\n",
      "RMS error 0.05347503299752292\n",
      "random_state 8\n",
      "R score 0.8864017022276609 Error 0.004167533644491887\n",
      "RMS error 0.06455643766884823\n",
      "random_state 9\n",
      "R score 0.9300208157219678 Error 0.0020710036243700323\n",
      "RMS error 0.045508280832943275\n",
      "random_state 10\n",
      "R score 0.868927755664998 Error 0.0060417299519972805\n",
      "RMS error 0.07772856586865141\n",
      "random_state 11\n",
      "R score 0.8765881561361857 Error 0.004736002081475464\n",
      "RMS error 0.06881861725925234\n",
      "random_state 12\n",
      "R score 0.9375767482658304 Error 0.0022089296049232917\n",
      "RMS error 0.04699925111023889\n",
      "random_state 13\n",
      "R score 0.9432848058889721 Error 0.002272925274293568\n",
      "RMS error 0.04767520607499844\n",
      "random_state 14\n",
      "R score 0.8794577455201448 Error 0.005000008001909104\n",
      "RMS error 0.07071073470067402\n",
      "random_state 15\n",
      "R score 0.9181618968407219 Error 0.002736244593233998\n",
      "RMS error 0.05230912533424735\n",
      "random_state 16\n",
      "R score 0.9137344134335891 Error 0.0026262462272956845\n",
      "RMS error 0.0512469143197489\n",
      "random_state 17\n",
      "R score 0.8551039441983316 Error 0.004588434392562971\n",
      "RMS error 0.06773798338128299\n",
      "random_state 18\n",
      "R score 0.8711316767601149 Error 0.004996654310855219\n",
      "RMS error 0.07068701656496204\n",
      "random_state 19\n",
      "R score 0.9231926669253525 Error 0.0027953143197967743\n",
      "RMS error 0.05287073216626354\n",
      "random_state 20\n",
      "R score 0.8639401893767046 Error 0.005809016115597724\n",
      "RMS error 0.07621690177118015\n",
      "random_state 21\n",
      "R score 0.8758057733460838 Error 0.00502951153796839\n",
      "RMS error 0.07091904918968098\n",
      "random_state 22\n",
      "R score 0.9302861578994577 Error 0.0022056518373425545\n",
      "RMS error 0.046964367741326556\n",
      "random_state 23\n",
      "R score 0.9371332979527449 Error 0.0026495824169582116\n",
      "RMS error 0.05147409462009227\n",
      "random_state 24\n",
      "R score 0.9237598468402255 Error 0.002625661519611635\n",
      "RMS error 0.05124120919349616\n",
      "random_state 25\n",
      "R score 0.9163333726408855 Error 0.0027899710785512766\n",
      "RMS error 0.05282017681294977\n",
      "random_state 26\n",
      "R score 0.9053735757129704 Error 0.0028598073228963553\n",
      "RMS error 0.053477166369361374\n",
      "random_state 27\n",
      "R score 0.9101673247241553 Error 0.0028596114810251444\n",
      "RMS error 0.0534753352586512\n",
      "random_state 28\n",
      "R score 0.929293543937305 Error 0.0026594533790238024\n",
      "RMS error 0.05156988829756957\n",
      "random_state 29\n",
      "R score 0.9243165861167515 Error 0.0029399932719090115\n",
      "RMS error 0.05422170480452465\n",
      "random_state 30\n",
      "R score 0.9290383562871622 Error 0.002674243059561089\n",
      "RMS error 0.05171308402678271\n",
      "random_state 31\n",
      "R score 0.9303816059748917 Error 0.002250767540180437\n",
      "RMS error 0.04744225479654648\n",
      "random_state 32\n",
      "R score 0.8419247042494348 Error 0.005117042470501423\n",
      "RMS error 0.07153350592904995\n",
      "random_state 33\n",
      "R score 0.9284248192663767 Error 0.002659551716520219\n",
      "RMS error 0.051570841727862256\n",
      "random_state 34\n",
      "R score 0.9213347370661957 Error 0.003118410125150034\n",
      "RMS error 0.05584272669873879\n",
      "random_state 35\n",
      "R score 0.8455734603808134 Error 0.004502515395949576\n",
      "RMS error 0.06710078536015489\n",
      "random_state 36\n",
      "R score 0.9214886847141543 Error 0.0025485683703982396\n",
      "RMS error 0.050483347456346826\n",
      "random_state 37\n",
      "R score 0.9105841271517716 Error 0.0025466240941358206\n",
      "RMS error 0.050464087172323056\n",
      "random_state 38\n",
      "R score 0.9177719302923151 Error 0.002190945244698834\n",
      "RMS error 0.0468075340591537\n",
      "random_state 39\n",
      "R score 0.9073585136055096 Error 0.003312516851463833\n",
      "RMS error 0.05755446856208329\n",
      "random_state 40\n",
      "R score 0.8515525226850723 Error 0.005290716947369458\n",
      "RMS error 0.07273731468352031\n",
      "random_state 41\n",
      "R score 0.8790360211066262 Error 0.004511514049959188\n",
      "RMS error 0.06716780515960893\n",
      "random_state 42\n",
      "R score 0.8931514236262396 Error 0.0034866668248127006\n",
      "RMS error 0.05904800441007893\n",
      "random_state 43\n",
      "R score 0.9317866668365394 Error 0.0023906007087822986\n",
      "RMS error 0.048893769631541996\n",
      "random_state 44\n",
      "R score 0.8984771694637121 Error 0.002430952899994092\n",
      "RMS error 0.049304694502593685\n",
      "random_state 45\n",
      "R score 0.9237015974285218 Error 0.0021062358330300873\n",
      "RMS error 0.04589374503164987\n",
      "random_state 46\n",
      "R score 0.9041874272513962 Error 0.0023752725615069858\n",
      "RMS error 0.04873676806587595\n",
      "random_state 47\n",
      "R score 0.8419818409306106 Error 0.006063624317484871\n",
      "RMS error 0.07786927710904264\n",
      "random_state 48\n",
      "R score 0.9359347805939362 Error 0.002226148856572499\n",
      "RMS error 0.04718208194402298\n",
      "random_state 49\n",
      "R score 0.8587178694650781 Error 0.005080913928270401\n",
      "RMS error 0.07128052979790765\n",
      "random_state 50\n",
      "R score 0.8876482776091239 Error 0.0026549676240879426\n",
      "RMS error 0.051526377944582355\n",
      "random_state 51\n",
      "R score 0.8718765549764573 Error 0.00434640220173263\n",
      "RMS error 0.0659272493111356\n",
      "random_state 52\n",
      "R score 0.8834242164825716 Error 0.004905398357642529\n",
      "RMS error 0.07003854908293382\n",
      "random_state 53\n",
      "R score 0.9293246634549301 Error 0.002332262732773105\n",
      "RMS error 0.048293506113898016\n",
      "random_state 54\n",
      "R score 0.9421123050455846 Error 0.0017953316732928215\n",
      "RMS error 0.04237135439530841\n",
      "random_state 55\n",
      "R score 0.9398580024799594 Error 0.0020345621936194535\n",
      "RMS error 0.04510612146504567\n",
      "random_state 56\n",
      "R score 0.8716380487822779 Error 0.005356434567010868\n",
      "RMS error 0.07318766676845812\n",
      "random_state 57\n",
      "R score 0.9328777772994811 Error 0.0021010240314490573\n",
      "RMS error 0.04583692868691201\n",
      "random_state 58\n",
      "R score 0.8628682626703899 Error 0.005228902671102639\n",
      "RMS error 0.07231115177552241\n",
      "random_state 59\n",
      "R score 0.9330727305085753 Error 0.0024385315380355058\n",
      "RMS error 0.04938148983207681\n",
      "random_state 60\n",
      "R score 0.9351135094274238 Error 0.002165521556901598\n",
      "RMS error 0.046535164734871175\n",
      "random_state 61\n",
      "R score 0.8646296281467781 Error 0.004441714825291841\n",
      "RMS error 0.06664619137874153\n",
      "random_state 62\n",
      "R score 0.8574633654765225 Error 0.005187870650481256\n",
      "RMS error 0.07202687450168344\n",
      "random_state 63\n",
      "R score 0.9125159787540477 Error 0.002240767860518239\n",
      "RMS error 0.04733674957702777\n",
      "random_state 64\n",
      "R score 0.8685553298379682 Error 0.005263824598458214\n",
      "RMS error 0.07255221980379521\n",
      "random_state 65\n",
      "R score 0.9196880129647795 Error 0.0028394794304051657\n",
      "RMS error 0.05328676599686986\n",
      "random_state 66\n",
      "R score 0.8889476293841636 Error 0.004621290830379056\n",
      "RMS error 0.06798007671648404\n",
      "random_state 67\n",
      "R score 0.8469816132446899 Error 0.005200908479036445\n",
      "RMS error 0.07211732440292308\n",
      "random_state 68\n",
      "R score 0.9038031438884774 Error 0.0031375549216313683\n",
      "RMS error 0.05601388150834906\n",
      "random_state 69\n",
      "R score 0.9296315751991135 Error 0.0024340837240645306\n",
      "RMS error 0.04933643404285043\n",
      "random_state 70\n",
      "R score 0.921352686603546 Error 0.0025311781303966664\n",
      "RMS error 0.050310815242815\n",
      "random_state 71\n",
      "R score 0.8449895614573208 Error 0.005767215142571099\n",
      "RMS error 0.07594218289311348\n",
      "random_state 72\n",
      "R score 0.9326301977801853 Error 0.002459056456539653\n",
      "RMS error 0.04958887432216679\n",
      "random_state 73\n",
      "R score 0.907549464630143 Error 0.0032392559051756947\n",
      "RMS error 0.05691446130093559\n",
      "random_state 74\n",
      "R score 0.8726079652940624 Error 0.004353916094030837\n",
      "RMS error 0.06598421094497409\n",
      "random_state 75\n",
      "R score 0.9185096300420695 Error 0.0030235230277811725\n",
      "RMS error 0.054986571340475236\n",
      "random_state 76\n",
      "R score 0.8912577697087964 Error 0.003117673241490395\n",
      "RMS error 0.05583612846079494\n",
      "random_state 77\n",
      "R score 0.924783859194073 Error 0.0025474483175894854\n",
      "RMS error 0.05047225294743128\n",
      "random_state 78\n",
      "R score 0.9344725725267304 Error 0.0021304065061904104\n",
      "RMS error 0.04615632682732033\n",
      "random_state 79\n",
      "R score 0.9177567725186679 Error 0.003147419036742531\n",
      "RMS error 0.056101863041636425\n",
      "random_state 80\n",
      "R score 0.8697354223466143 Error 0.004448592276274761\n",
      "RMS error 0.06669776815062677\n",
      "random_state 81\n",
      "R score 0.925290085693158 Error 0.002582959725286796\n",
      "RMS error 0.05082282681322238\n",
      "random_state 82\n",
      "R score 0.8557228686042292 Error 0.004333051928378564\n",
      "RMS error 0.06582592140166793\n",
      "random_state 83\n",
      "R score 0.9300831220681947 Error 0.0024840003429249173\n",
      "RMS error 0.04983974661778406\n",
      "random_state 84\n",
      "R score 0.9379901590329038 Error 0.0021919493607135596\n",
      "RMS error 0.046818258838978194\n",
      "random_state 85\n",
      "R score 0.8581760622676003 Error 0.004849407035582865\n",
      "RMS error 0.06963768401937893\n",
      "random_state 86\n",
      "R score 0.8771656572839459 Error 0.004578901695240185\n",
      "RMS error 0.06766758230674556\n",
      "random_state 87\n",
      "R score 0.8578455153598231 Error 0.004846695498402736\n",
      "RMS error 0.06961821240453345\n",
      "random_state 88\n",
      "R score 0.8838251979398228 Error 0.0045285462501261555\n",
      "RMS error 0.06729447414257841\n",
      "random_state 89\n",
      "R score 0.9193158957361005 Error 0.003103103736623879\n",
      "RMS error 0.05570550903298415\n",
      "random_state 90\n",
      "R score 0.901648216494357 Error 0.002465451459607409\n",
      "RMS error 0.04965331267506136\n",
      "random_state 91\n",
      "R score 0.9315739043501531 Error 0.002133418653176258\n",
      "RMS error 0.04618894514032831\n",
      "random_state 92\n",
      "R score 0.922132183724415 Error 0.002467140695504032\n",
      "RMS error 0.04967032006645449\n",
      "random_state 93\n",
      "R score 0.9126983030044868 Error 0.002798399779899209\n",
      "RMS error 0.05289990340160565\n",
      "random_state 94\n",
      "R score 0.8841283252148439 Error 0.004685926616216368\n",
      "RMS error 0.06845382835325113\n",
      "random_state 95\n",
      "R score 0.9085133962222529 Error 0.00262065255549552\n",
      "RMS error 0.05119230953469007\n",
      "random_state 96\n",
      "R score 0.8966700933543136 Error 0.002709049161197956\n",
      "RMS error 0.052048526983940246\n",
      "random_state 97\n",
      "R score 0.9134090467577255 Error 0.0028634039933210006\n",
      "RMS error 0.05351078389746314\n",
      "random_state 98\n",
      "R score 0.9325837717130272 Error 0.0027056243424997796\n",
      "RMS error 0.05201561633298004\n",
      "random_state 99\n",
      "R score 0.9232455308420019 Error 0.002550614507202776\n",
      "RMS error 0.05050360885325697\n"
     ]
    }
   ],
   "source": [
    "for i in range(1,100):\n",
    "    x_train,x_test,y_train,y_test = train_test_split(x,y,test_size=.33,random_state=i)\n",
    "    lr =  LinearRegression()\n",
    "    lr.fit(x_train,y_train)\n",
    "    pred = lr.predict(x_test)\n",
    "    r_score = r2_score(y_test,pred)\n",
    "    error = mean_squared_error(y_test,pred)\n",
    "    print('random_state',i)\n",
    "    print('R score',r_score,'Error',error)\n",
    "    print('RMS error',np.sqrt(error))"
   ]
  },
  {
   "cell_type": "markdown",
   "metadata": {},
   "source": [
    "Taking 9 as the random_state for spitting the data :\n",
    "    \n",
    "    \n",
    "R score 0.9300208157219678 \n",
    "\n",
    "Error 0.0020710036243700323\n",
    "\n",
    "RMS error 0.045508280832943275"
   ]
  },
  {
   "cell_type": "code",
   "execution_count": 25,
   "metadata": {},
   "outputs": [],
   "source": [
    "x_train,x_test,y_train,y_test = train_test_split(x,y,test_size=.33,random_state=9)"
   ]
  },
  {
   "cell_type": "code",
   "execution_count": 26,
   "metadata": {},
   "outputs": [],
   "source": [
    "from sklearn.linear_model import LinearRegression\n",
    "from sklearn.svm import SVR\n",
    "from sklearn.tree import DecisionTreeRegressor\n",
    "from sklearn.neighbors import KNeighborsRegressor"
   ]
  },
  {
   "cell_type": "code",
   "execution_count": 27,
   "metadata": {},
   "outputs": [],
   "source": [
    "list_algo = [LinearRegression,SVR,DecisionTreeRegressor,KNeighborsRegressor]"
   ]
  },
  {
   "cell_type": "code",
   "execution_count": 28,
   "metadata": {},
   "outputs": [
    {
     "name": "stdout",
     "output_type": "stream",
     "text": [
      "<class 'sklearn.linear_model._base.LinearRegression'> r2_score 0.9300208157219678\n",
      "mean squared error 0.0020710036243700323\n",
      "rms 0.045508280832943275\n",
      "---------\n",
      "<class 'sklearn.svm._classes.SVR'> r2_score 0.9272305421005378\n",
      "mean squared error 0.0021535805626779533\n",
      "rms 0.04640668661602499\n",
      "---------\n",
      "<class 'sklearn.tree._classes.DecisionTreeRegressor'> r2_score 0.9274556443580667\n",
      "mean squared error 0.002146918758942945\n",
      "rms 0.04633485468783673\n",
      "---------\n",
      "<class 'sklearn.neighbors._regression.KNeighborsRegressor'> r2_score 0.9433804961568424\n",
      "mean squared error 0.0016756296730086682\n",
      "rms 0.040934455816691494\n",
      "---------\n"
     ]
    }
   ],
   "source": [
    "for i in list_algo:\n",
    "    obj = i()\n",
    "    obj.fit(x_train,y_train)\n",
    "    pred = obj.predict(x_test)\n",
    "    print(i,'r2_score',r2_score(y_test,pred))\n",
    "    print('mean squared error',mean_squared_error(y_test,pred))\n",
    "    print('rms',np.sqrt(mean_squared_error(y_test,pred)))\n",
    "    print('---------')\n"
   ]
  },
  {
   "cell_type": "markdown",
   "metadata": {},
   "source": [
    "right now kneighbors is giving best result , \n",
    "\n",
    "then Linear_regression"
   ]
  },
  {
   "cell_type": "code",
   "execution_count": 29,
   "metadata": {},
   "outputs": [],
   "source": [
    "from sklearn.model_selection import cross_val_score"
   ]
  },
  {
   "cell_type": "markdown",
   "metadata": {},
   "source": [
    " Finding best cv value for cross validation"
   ]
  },
  {
   "cell_type": "code",
   "execution_count": 32,
   "metadata": {},
   "outputs": [
    {
     "name": "stdout",
     "output_type": "stream",
     "text": [
      "r2_score 0.9433804961568424\n",
      "cv... 2\n",
      "0.9052112832663652\n",
      "-------\n",
      "r2_score 0.9433804961568424\n",
      "cv... 3\n",
      "0.9028468729966699\n",
      "-------\n",
      "r2_score 0.9433804961568424\n",
      "cv... 4\n",
      "0.9043627610004317\n",
      "-------\n",
      "r2_score 0.9433804961568424\n",
      "cv... 5\n",
      "0.9005787344239\n",
      "-------\n",
      "r2_score 0.9433804961568424\n",
      "cv... 6\n",
      "0.9066854242879342\n",
      "-------\n",
      "r2_score 0.9433804961568424\n",
      "cv... 7\n",
      "0.9023951183707116\n",
      "-------\n",
      "r2_score 0.9433804961568424\n",
      "cv... 8\n",
      "0.9008261296898245\n",
      "-------\n",
      "r2_score 0.9433804961568424\n",
      "cv... 9\n",
      "0.9004134061514786\n",
      "-------\n",
      "r2_score 0.9433804961568424\n",
      "cv... 10\n",
      "0.9021422918437463\n",
      "-------\n",
      "r2_score 0.9433804961568424\n",
      "cv... 11\n",
      "0.8964023235920067\n",
      "-------\n",
      "r2_score 0.9433804961568424\n",
      "cv... 12\n",
      "0.9031881630778451\n",
      "-------\n",
      "r2_score 0.9433804961568424\n",
      "cv... 13\n",
      "0.9038976300327775\n",
      "-------\n",
      "r2_score 0.9433804961568424\n",
      "cv... 14\n",
      "0.8985648624600973\n",
      "-------\n",
      "r2_score 0.9433804961568424\n",
      "cv... 15\n",
      "0.8986308280955192\n",
      "-------\n",
      "r2_score 0.9433804961568424\n",
      "cv... 16\n",
      "0.9009961857040033\n",
      "-------\n",
      "r2_score 0.9433804961568424\n",
      "cv... 17\n",
      "0.8922917846059671\n",
      "-------\n",
      "r2_score 0.9433804961568424\n",
      "cv... 18\n",
      "0.9019677590172344\n",
      "-------\n",
      "r2_score 0.9433804961568424\n",
      "cv... 19\n",
      "0.8982688111578339\n",
      "-------\n",
      "r2_score 0.9433804961568424\n",
      "cv... 20\n",
      "0.8961877841600948\n",
      "-------\n"
     ]
    }
   ],
   "source": [
    "lr = LinearRegression()\n",
    "for i in range(2,21):\n",
    "    lr.fit(x_train,y_train)\n",
    "    pred = obj.predict(x_test)\n",
    "    print('r2_score',r2_score(y_test,pred))\n",
    "    cross_score = cross_val_score(lr,x,y,cv=i)\n",
    "    print('cv...',i)\n",
    "    print(cross_score.mean())\n",
    "    print('-------')"
   ]
  },
  {
   "cell_type": "markdown",
   "metadata": {},
   "source": [
    "taking best cv = 6 \n",
    "\n",
    "as r_score for each cv is equal so keeping cross_val_score in consideration \n",
    "\n",
    "taking 6 as cv"
   ]
  },
  {
   "cell_type": "code",
   "execution_count": 33,
   "metadata": {},
   "outputs": [
    {
     "name": "stdout",
     "output_type": "stream",
     "text": [
      "cross score 0.9066854242879342\n",
      "<class 'sklearn.linear_model._base.LinearRegression'> r2_score 0.9300208157219678\n",
      "mean squared error 0.0020710036243700323\n",
      "rms 0.045508280832943275\n",
      "---------\n",
      "cross score 0.9014795004616069\n",
      "<class 'sklearn.svm._classes.SVR'> r2_score 0.9272305421005378\n",
      "mean squared error 0.0021535805626779533\n",
      "rms 0.04640668661602499\n",
      "---------\n",
      "cross score 0.9461553822037513\n",
      "<class 'sklearn.tree._classes.DecisionTreeRegressor'> r2_score 0.9314693712720931\n",
      "mean squared error 0.0020281342507789996\n",
      "rms 0.04503481154372692\n",
      "---------\n",
      "cross score 0.9272743542362595\n",
      "<class 'sklearn.neighbors._regression.KNeighborsRegressor'> r2_score 0.9433804961568424\n",
      "mean squared error 0.0016756296730086682\n",
      "rms 0.040934455816691494\n",
      "---------\n"
     ]
    }
   ],
   "source": [
    "for i in list_algo:\n",
    "    obj = i()\n",
    "    obj.fit(x_train,y_train)\n",
    "    pred = obj.predict(x_test)\n",
    "    cross_score = cross_val_score(obj,x,y,cv=6)\n",
    "    print('cross score',cross_score.mean())\n",
    "    print(i,'r2_score',r2_score(y_test,pred))\n",
    "    print('mean squared error',mean_squared_error(y_test,pred))\n",
    "    print('rms',np.sqrt(mean_squared_error(y_test,pred)))\n",
    "    print('---------')"
   ]
  },
  {
   "cell_type": "markdown",
   "metadata": {},
   "source": [
    "Decision tree Regressor is giving best result here\n",
    "\n",
    "then kneighbors"
   ]
  },
  {
   "cell_type": "code",
   "execution_count": 35,
   "metadata": {},
   "outputs": [],
   "source": [
    "dtr = DecisionTreeRegressor()"
   ]
  },
  {
   "cell_type": "markdown",
   "metadata": {},
   "source": [
    "#performing hyper parametric tuning for optimization"
   ]
  },
  {
   "cell_type": "code",
   "execution_count": 36,
   "metadata": {},
   "outputs": [],
   "source": [
    "from sklearn.model_selection import GridSearchCV"
   ]
  },
  {
   "cell_type": "code",
   "execution_count": 41,
   "metadata": {},
   "outputs": [],
   "source": [
    "param_grid = {\"criterion\": [\"mse\", \"mae\"],\n",
    "                 \"splitter\":['best','random'],\n",
    "                  }\n",
    "\n",
    "grid_cv_dtr= GridSearchCV(dtr, param_grid, cv=5)\n",
    "              "
   ]
  },
  {
   "cell_type": "code",
   "execution_count": 42,
   "metadata": {},
   "outputs": [
    {
     "data": {
      "text/plain": [
       "GridSearchCV(cv=5, estimator=DecisionTreeRegressor(),\n",
       "             param_grid={'criterion': ['mse', 'mae'],\n",
       "                         'splitter': ['best', 'random']})"
      ]
     },
     "execution_count": 42,
     "metadata": {},
     "output_type": "execute_result"
    }
   ],
   "source": [
    "grid_cv_dtr.fit(x,y)"
   ]
  },
  {
   "cell_type": "code",
   "execution_count": 43,
   "metadata": {},
   "outputs": [
    {
     "name": "stdout",
     "output_type": "stream",
     "text": [
      "{'criterion': 'mse', 'splitter': 'random'}\n",
      "0.9394875879228384\n"
     ]
    }
   ],
   "source": [
    "best_para = grid_cv_dtr.best_params_\n",
    "print(best_para)\n",
    "best_res = grid_cv_dtr.best_score_\n",
    "print(best_res)"
   ]
  },
  {
   "cell_type": "markdown",
   "metadata": {},
   "source": [
    "Got optimal paramters"
   ]
  },
  {
   "cell_type": "code",
   "execution_count": 44,
   "metadata": {},
   "outputs": [],
   "source": [
    "dtr = DecisionTreeRegressor(criterion='mse',splitter='random')\n",
    "dtr.fit(x_train,y_train)\n",
    "pred = dtr.predict(x_test)"
   ]
  },
  {
   "cell_type": "code",
   "execution_count": 45,
   "metadata": {},
   "outputs": [
    {
     "name": "stdout",
     "output_type": "stream",
     "text": [
      "0.9455547204843756\n"
     ]
    }
   ],
   "source": [
    "print(r2_score(y_test,pred))"
   ]
  },
  {
   "cell_type": "code",
   "execution_count": 46,
   "metadata": {},
   "outputs": [
    {
     "name": "stdout",
     "output_type": "stream",
     "text": [
      "0.0016112844465106767\n"
     ]
    }
   ],
   "source": [
    "print(mean_squared_error(y_test,pred))"
   ]
  },
  {
   "cell_type": "markdown",
   "metadata": {},
   "source": [
    "Saving best Model"
   ]
  },
  {
   "cell_type": "code",
   "execution_count": 47,
   "metadata": {},
   "outputs": [],
   "source": [
    "import pickle\n",
    "sales = 'pickl.pkl'\n",
    "pickle.dump(dtr,open(sales,'wb'))"
   ]
  },
  {
   "cell_type": "markdown",
   "metadata": {},
   "source": [
    "Conclusion"
   ]
  },
  {
   "cell_type": "code",
   "execution_count": 48,
   "metadata": {},
   "outputs": [
    {
     "data": {
      "text/html": [
       "<div>\n",
       "<style scoped>\n",
       "    .dataframe tbody tr th:only-of-type {\n",
       "        vertical-align: middle;\n",
       "    }\n",
       "\n",
       "    .dataframe tbody tr th {\n",
       "        vertical-align: top;\n",
       "    }\n",
       "\n",
       "    .dataframe thead th {\n",
       "        text-align: right;\n",
       "    }\n",
       "</style>\n",
       "<table border=\"1\" class=\"dataframe\">\n",
       "  <thead>\n",
       "    <tr style=\"text-align: right;\">\n",
       "      <th></th>\n",
       "      <th>original</th>\n",
       "      <th>predicted</th>\n",
       "    </tr>\n",
       "  </thead>\n",
       "  <tbody>\n",
       "    <tr>\n",
       "      <th>0</th>\n",
       "      <td>0.878970</td>\n",
       "      <td>0.878970</td>\n",
       "    </tr>\n",
       "    <tr>\n",
       "      <th>1</th>\n",
       "      <td>0.350444</td>\n",
       "      <td>0.350444</td>\n",
       "    </tr>\n",
       "    <tr>\n",
       "      <th>2</th>\n",
       "      <td>0.826428</td>\n",
       "      <td>0.826428</td>\n",
       "    </tr>\n",
       "    <tr>\n",
       "      <th>3</th>\n",
       "      <td>0.808465</td>\n",
       "      <td>0.808465</td>\n",
       "    </tr>\n",
       "    <tr>\n",
       "      <th>4</th>\n",
       "      <td>0.698535</td>\n",
       "      <td>0.698535</td>\n",
       "    </tr>\n",
       "    <tr>\n",
       "      <th>...</th>\n",
       "      <td>...</td>\n",
       "      <td>...</td>\n",
       "    </tr>\n",
       "    <tr>\n",
       "      <th>61</th>\n",
       "      <td>0.403971</td>\n",
       "      <td>0.403971</td>\n",
       "    </tr>\n",
       "    <tr>\n",
       "      <th>62</th>\n",
       "      <td>0.658529</td>\n",
       "      <td>0.658529</td>\n",
       "    </tr>\n",
       "    <tr>\n",
       "      <th>63</th>\n",
       "      <td>0.566862</td>\n",
       "      <td>0.566862</td>\n",
       "    </tr>\n",
       "    <tr>\n",
       "      <th>64</th>\n",
       "      <td>0.718060</td>\n",
       "      <td>0.718060</td>\n",
       "    </tr>\n",
       "    <tr>\n",
       "      <th>65</th>\n",
       "      <td>0.442121</td>\n",
       "      <td>0.442121</td>\n",
       "    </tr>\n",
       "  </tbody>\n",
       "</table>\n",
       "<p>66 rows × 2 columns</p>\n",
       "</div>"
      ],
      "text/plain": [
       "    original  predicted\n",
       "0   0.878970   0.878970\n",
       "1   0.350444   0.350444\n",
       "2   0.826428   0.826428\n",
       "3   0.808465   0.808465\n",
       "4   0.698535   0.698535\n",
       "..       ...        ...\n",
       "61  0.403971   0.403971\n",
       "62  0.658529   0.658529\n",
       "63  0.566862   0.566862\n",
       "64  0.718060   0.718060\n",
       "65  0.442121   0.442121\n",
       "\n",
       "[66 rows x 2 columns]"
      ]
     },
     "execution_count": 48,
     "metadata": {},
     "output_type": "execute_result"
    }
   ],
   "source": [
    "original_res = np.array(y_test)\n",
    "pred_res = np.array(dtr.predict(x_test))\n",
    "df_comparison = pd.DataFrame({'original':pred_res,'predicted':pred_res})\n",
    "df_comparison"
   ]
  },
  {
   "cell_type": "code",
   "execution_count": null,
   "metadata": {},
   "outputs": [],
   "source": []
  }
 ],
 "metadata": {
  "kernelspec": {
   "display_name": "Python 3",
   "language": "python",
   "name": "python3"
  },
  "language_info": {
   "codemirror_mode": {
    "name": "ipython",
    "version": 3
   },
   "file_extension": ".py",
   "mimetype": "text/x-python",
   "name": "python",
   "nbconvert_exporter": "python",
   "pygments_lexer": "ipython3",
   "version": "3.8.8"
  }
 },
 "nbformat": 4,
 "nbformat_minor": 2
}
